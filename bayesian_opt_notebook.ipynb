{
 "cells": [
  {
   "cell_type": "code",
   "execution_count": 2,
   "metadata": {
    "collapsed": true,
    "ExecuteTime": {
     "end_time": "2023-07-12T02:24:44.055002Z",
     "start_time": "2023-07-12T02:24:41.507183Z"
    }
   },
   "outputs": [],
   "source": [
    "import numpy as np\n",
    "import pandas as pd\n",
    "from ax.service.ax_client import AxClient\n",
    "from ax.service.utils.instantiation import ObjectiveProperties\n",
    "from tqdm import tqdm\n",
    "import statistics\n",
    "from pprint import pprint\n",
    "from main import Game\n",
    "from AI import MDP2"
   ]
  },
  {
   "cell_type": "code",
   "execution_count": 3,
   "outputs": [
    {
     "name": "stderr",
     "output_type": "stream",
     "text": [
      "[INFO 07-11 22:24:44] ax.service.ax_client: Starting optimization with verbose logging. To disable logging, set the `verbose_logging` argument to `False`. Note that float values in the logs are rounded to 6 decimal points.\n",
      "[WARNING 07-11 22:24:44] ax.service.ax_client: Random seed set to 42. Note that this setting only affects the Sobol quasi-random generator and BoTorch-powered Bayesian optimization models. For the latter models, setting random seed to the same number for two optimizations will make the generated trials similar, but not exactly the same, and over time the trials will diverge more.\n",
      "[INFO 07-11 22:24:44] ax.service.utils.instantiation: Due to non-specification, we will use the heuristic for selecting objective thresholds.\n",
      "[INFO 07-11 22:24:44] ax.service.utils.instantiation: Created search space: SearchSpace(parameters=[RangeParameter(name='m1-3', parameter_type=INT, range=[250, 750]), RangeParameter(name='m4-6', parameter_type=INT, range=[25, 100]), RangeParameter(name='m7-9', parameter_type=INT, range=[8, 50]), RangeParameter(name='m10-15', parameter_type=INT, range=[5, 20]), RangeParameter(name='depth_scale', parameter_type=FLOAT, range=[2.0, 9.0])], parameter_constraints=[OrderConstraint(m4-6 <= m1-3), OrderConstraint(m7-9 <= m4-6), OrderConstraint(m10-15 <= m7-9)]).\n",
      "[INFO 07-11 22:24:44] ax.modelbridge.dispatch_utils: Using Models.MOO since there are more ordered parameters than there are categories for the unordered categorical parameters.\n",
      "[INFO 07-11 22:24:44] ax.modelbridge.dispatch_utils: Calculating the number of remaining initialization trials based on num_initialization_trials=None max_initialization_trials=None num_tunable_parameters=5 num_trials=None use_batch_trials=False\n",
      "[INFO 07-11 22:24:44] ax.modelbridge.dispatch_utils: calculated num_initialization_trials=10\n",
      "[INFO 07-11 22:24:44] ax.modelbridge.dispatch_utils: num_completed_initialization_trials=0 num_remaining_initialization_trials=10\n",
      "[INFO 07-11 22:24:44] ax.modelbridge.dispatch_utils: Using Bayesian Optimization generation strategy: GenerationStrategy(name='Sobol+MOO', steps=[Sobol for 10 trials, MOO for subsequent trials]). Iterations after 10 will take longer to generate due to model-fitting.\n"
     ]
    }
   ],
   "source": [
    "ax_client = AxClient(random_seed=42)\n",
    "\n",
    "\n",
    "ax_client.create_experiment(\n",
    "    name=\"moo_experiment1\",\n",
    "    parameters=[\n",
    "        {\n",
    "            \"name\": f\"m1-3\",\n",
    "            \"type\": \"range\",\n",
    "            \"bounds\": [250, 750],\n",
    "            \"value_type\": \"int\"},\n",
    "        {\n",
    "            \"name\": f\"m4-6\",\n",
    "            \"type\": \"range\",\n",
    "            \"bounds\": [25, 100],\n",
    "            \"value_type\": \"int\"},\n",
    "        {\n",
    "            \"name\": f\"m7-9\",\n",
    "            \"type\": \"range\",\n",
    "            \"bounds\": [8, 50],\n",
    "            \"value_type\": \"int\"},\n",
    "        {\n",
    "            \"name\": f\"m10-15\",\n",
    "            \"type\": \"range\",\n",
    "            \"bounds\": [5, 20],\n",
    "            \"value_type\": \"int\"},\n",
    "        {\n",
    "            \"name\": f\"depth_scale\",\n",
    "            \"type\": \"range\",\n",
    "            \"bounds\": [2, 9],\n",
    "            \"value_type\": \"float\"},\n",
    "\n",
    "    ],\n",
    "    objectives={\n",
    "        \"score\": ObjectiveProperties(minimize=False),\n",
    "        \"time_per_move\": ObjectiveProperties(minimize=True)\n",
    "    },\n",
    "    parameter_constraints=[\"m1-3 >= m4-6\", \"m4-6 >= m7-9\", \"m7-9 >= m10-15\"],\n",
    "    overwrite_existing_experiment=False,\n",
    "    is_test=False,\n",
    ")"
   ],
   "metadata": {
    "collapsed": false,
    "ExecuteTime": {
     "end_time": "2023-07-12T02:24:44.063557Z",
     "start_time": "2023-07-12T02:24:44.057979Z"
    }
   }
  },
  {
   "cell_type": "code",
   "execution_count": 4,
   "outputs": [],
   "source": [
    "df = pd.read_csv(\"saved games/MDP2.csv\")\n",
    "df[\"time_per_move\"] = df[\"Duration\"] / df[\"num_moves\"]\n",
    "\n",
    "df_renamed = df.rename(columns={'Score': 'score',\n",
    "                                                'time_per_move': 'time_per_move',\n",
    "                                                'core_param_0: (1-3)': 'm1-3',\n",
    "                                                'core_param_1: (4-6)': 'm4-6',\n",
    "                                                'core_param_2: (7-9)': 'm7-9',\n",
    "                                                'core_param_3: (10-15)': 'm10-15',\n",
    "                                                'core_param_4: 2/4 strength ratio': 'depth_scale'})\n",
    "df_renamed = df_renamed.drop([\"Board\", \"Model\", \"top_proportion\", \"num_moves\", \"Duration\"], axis=1)"
   ],
   "metadata": {
    "collapsed": false,
    "ExecuteTime": {
     "end_time": "2023-07-12T02:24:45.270729Z",
     "start_time": "2023-07-12T02:24:45.260954Z"
    }
   }
  },
  {
   "cell_type": "code",
   "execution_count": 6,
   "outputs": [],
   "source": [
    "def evaluate(parameters: dict, total_runs: int = 10):\n",
    "    parameters[\"depth_scale\"] = round(parameters[\"depth_scale\"], 2)\n",
    "    param_array = np.array([\n",
    "        parameters[\"m1-3\"],\n",
    "        parameters[\"m4-6\"],\n",
    "        parameters[\"m7-9\"],\n",
    "        parameters[\"m10-15\"],\n",
    "        parameters[\"depth_scale\"],\n",
    "    ])\n",
    "\n",
    "    scores = []\n",
    "    time_per_moves = []\n",
    "\n",
    "    matching_rows = df_renamed.loc[\n",
    "        (df_renamed['m1-3'] == parameters[\"m1-3\"]) &\n",
    "        (df_renamed['m4-6'] == parameters[\"m4-6\"]) &\n",
    "        (df_renamed['m7-9'] == parameters[\"m7-9\"]) &\n",
    "        (df_renamed['m10-15'] == parameters[\"m10-15\"]) &\n",
    "        (df_renamed['depth_scale'] == parameters[\"depth_scale\"])\n",
    "    ]\n",
    "\n",
    "    if not matching_rows.empty:\n",
    "        num_occurrences = len(matching_rows)\n",
    "        total_runs -= num_occurrences\n",
    "        scores.extend(matching_rows[\"score\"].tolist())\n",
    "        time_per_moves.extend(matching_rows[\"time_per_move\"].tolist())\n",
    "\n",
    "        print(f\"{num_occurrences} with current parameters:\\n\"\n",
    "              f\"avg score = {matching_rows['score'].mean()}\"\n",
    "              f\"avg time_per_move = {matching_rows['time_per_move'].mean()}\\n Parameters:\")\n",
    "    else:\n",
    "        print(\"No existing data for these parameters:\")\n",
    "    pprint(parameters)\n",
    "\n",
    "    for game_run in range(total_runs):\n",
    "        g = Game(use_gui=False, no_display=True)\n",
    "        g.setup_board()\n",
    "        m = MDP2(g, game_obj=Game, verbose=False, best_proportion=1, core_params=param_array)\n",
    "        print(f\"starting run {game_run} of {total_runs} with parameter array {param_array}\")\n",
    "        current_score, current_time_per_move = m.run()\n",
    "        scores.append(current_score)\n",
    "        time_per_moves.append(current_time_per_move)\n",
    "    to_return = {\"score\": statistics.mean(scores),\n",
    "                 \"time_per_move\": statistics.mean(time_per_moves)}\n",
    "\n",
    "    return to_return"
   ],
   "metadata": {
    "collapsed": false,
    "ExecuteTime": {
     "end_time": "2023-07-12T02:24:48.237533Z",
     "start_time": "2023-07-12T02:24:48.234928Z"
    }
   }
  },
  {
   "cell_type": "code",
   "execution_count": null,
   "outputs": [
    {
     "name": "stderr",
     "output_type": "stream",
     "text": [
      "  0%|          | 0/30 [00:00<?, ?it/s][INFO 07-11 22:20:20] ax.service.ax_client: Generated new trial 0 with parameters {'m1-3': 449, 'm4-6': 63, 'm7-9': 21, 'm10-15': 13, 'depth_scale': 5.327293}.\n"
     ]
    },
    {
     "name": "stdout",
     "output_type": "stream",
     "text": [
      "starting parameter iteration 0\n",
      "No existing data for these parameters:\n",
      "{'depth_scale': 5.32729332242161,\n",
      " 'm1-3': 449,\n",
      " 'm10-15': 13,\n",
      " 'm4-6': 63,\n",
      " 'm7-9': 21}\n",
      "starting run 0 with parameter array [449.    63.    21.    13.     5.33]\n",
      "--------------------SCORE: 0--------------------\n",
      "\u001B[48;5;181m\u001B[38;5;16m0  \u001B[0m \u001B[48;5;181m\u001B[38;5;16m0  \u001B[0m \u001B[48;5;181m\u001B[38;5;16m0  \u001B[0m \u001B[48;5;181m\u001B[38;5;16m0  \u001B[0m \n",
      "\u001B[48;5;181m\u001B[38;5;16m0  \u001B[0m \u001B[48;5;181m\u001B[38;5;16m0  \u001B[0m \u001B[48;5;181m\u001B[38;5;16m0  \u001B[0m \u001B[48;5;181m\u001B[38;5;16m0  \u001B[0m \n",
      "\u001B[48;5;181m\u001B[38;5;16m0  \u001B[0m \u001B[48;5;181m\u001B[38;5;16m0  \u001B[0m \u001B[48;5;181m\u001B[38;5;16m0  \u001B[0m \u001B[48;5;181m\u001B[38;5;16m0  \u001B[0m \n",
      "\u001B[48;5;181m\u001B[38;5;16m0  \u001B[0m \u001B[48;5;224m\u001B[38;5;16m2  \u001B[0m \u001B[48;5;224m\u001B[38;5;16m2  \u001B[0m \u001B[48;5;224m\u001B[38;5;16m2  \u001B[0m \n"
     ]
    }
   ],
   "source": [
    "for i in tqdm(range(30)):\n",
    "    print(f\"starting parameter iteration {i}\")\n",
    "    parameters, trial_index = ax_client.get_next_trial()\n",
    "    ax_client.complete_trial(trial_index=trial_index, raw_data=evaluate(parameters))"
   ],
   "metadata": {
    "collapsed": false,
    "ExecuteTime": {
     "start_time": "2023-07-12T02:20:20.691114Z"
    }
   }
  }
 ],
 "metadata": {
  "kernelspec": {
   "display_name": "Python 3",
   "language": "python",
   "name": "python3"
  },
  "language_info": {
   "codemirror_mode": {
    "name": "ipython",
    "version": 2
   },
   "file_extension": ".py",
   "mimetype": "text/x-python",
   "name": "python",
   "nbconvert_exporter": "python",
   "pygments_lexer": "ipython2",
   "version": "2.7.6"
  }
 },
 "nbformat": 4,
 "nbformat_minor": 0
}
