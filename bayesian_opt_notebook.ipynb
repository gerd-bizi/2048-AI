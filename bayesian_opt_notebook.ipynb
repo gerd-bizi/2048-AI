{
 "cells": [
  {
   "cell_type": "code",
   "execution_count": 1,
   "metadata": {
    "collapsed": true,
    "ExecuteTime": {
     "end_time": "2023-07-09T23:40:26.240697Z",
     "start_time": "2023-07-09T23:40:19.947244Z"
    }
   },
   "outputs": [],
   "source": [
    "import numpy as np\n",
    "# from ax import ParameterType, RangeParameter\n",
    "from ax.service.ax_client import AxClient\n",
    "from ax.service.utils.instantiation import ObjectiveProperties"
   ]
  },
  {
   "cell_type": "code",
   "execution_count": 2,
   "outputs": [
    {
     "name": "stderr",
     "output_type": "stream",
     "text": [
      "[INFO 07-07 23:51:44] ax.service.ax_client: Starting optimization with verbose logging. To disable logging, set the `verbose_logging` argument to `False`. Note that float values in the logs are rounded to 6 decimal points.\n",
      "[INFO 07-07 23:51:44] ax.service.utils.instantiation: Due to non-specification, we will use the heuristic for selecting objective thresholds.\n",
      "[INFO 07-07 23:51:44] ax.service.utils.instantiation: Created search space: SearchSpace(parameters=[RangeParameter(name='m1-3', parameter_type=INT, range=[250, 750]), RangeParameter(name='m4-6', parameter_type=INT, range=[25, 100]), RangeParameter(name='m7-9', parameter_type=INT, range=[8, 50]), RangeParameter(name='m10-15', parameter_type=INT, range=[5, 20]), RangeParameter(name='depth_scale', parameter_type=FLOAT, range=[5.0, 20.0])], parameter_constraints=[]).\n",
      "[INFO 07-07 23:51:44] ax.modelbridge.dispatch_utils: Using Models.MOO since there are more ordered parameters than there are categories for the unordered categorical parameters.\n",
      "[INFO 07-07 23:51:44] ax.modelbridge.dispatch_utils: Calculating the number of remaining initialization trials based on num_initialization_trials=None max_initialization_trials=None num_tunable_parameters=5 num_trials=None use_batch_trials=False\n",
      "[INFO 07-07 23:51:44] ax.modelbridge.dispatch_utils: calculated num_initialization_trials=10\n",
      "[INFO 07-07 23:51:44] ax.modelbridge.dispatch_utils: num_completed_initialization_trials=0 num_remaining_initialization_trials=10\n",
      "[INFO 07-07 23:51:44] ax.modelbridge.dispatch_utils: Using Bayesian Optimization generation strategy: GenerationStrategy(name='Sobol+MOO', steps=[Sobol for 10 trials, MOO for subsequent trials]). Iterations after 10 will take longer to generate due to model-fitting.\n"
     ]
    }
   ],
   "source": [
    "ax_client = AxClient()\n",
    "\n",
    "ax_client.create_experiment(\n",
    "    name=\"moo_experiment1\",\n",
    "    parameters=[\n",
    "        {\n",
    "            \"name\": f\"m1-3\",\n",
    "            \"type\": \"range\",\n",
    "            \"bounds\": [250, 750],\n",
    "            \"value_type\": \"int\"},\n",
    "        {\n",
    "            \"name\": f\"m4-6\",\n",
    "            \"type\": \"range\",\n",
    "            \"bounds\": [25, 100],\n",
    "            \"value_type\": \"int\"},\n",
    "        {\n",
    "            \"name\": f\"m7-9\",\n",
    "            \"type\": \"range\",\n",
    "            \"bounds\": [8, 50],\n",
    "            \"value_type\": \"int\"},\n",
    "        {\n",
    "            \"name\": f\"m10-15\",\n",
    "            \"type\": \"range\",\n",
    "            \"bounds\": [5, 20],\n",
    "            \"value_type\": \"int\"},\n",
    "        {\n",
    "            \"name\": f\"depth_scale\",\n",
    "            \"type\": \"range\",\n",
    "            \"bounds\": [5, 20],\n",
    "            \"value_type\": \"float\"},\n",
    "\n",
    "    ],\n",
    "    objectives={\n",
    "        # `threshold` arguments are optional\n",
    "        \"score\": ObjectiveProperties(minimize=False),\n",
    "        \"time_per_move\": ObjectiveProperties(minimize=True)\n",
    "    },\n",
    "    overwrite_existing_experiment=True,\n",
    "    # is_test=True,\n",
    ")"
   ],
   "metadata": {
    "collapsed": false,
    "ExecuteTime": {
     "end_time": "2023-07-08T03:51:44.236565Z",
     "start_time": "2023-07-08T03:51:44.232054Z"
    }
   }
  },
  {
   "cell_type": "code",
   "execution_count": 3,
   "outputs": [],
   "source": [
    "from main import Game\n",
    "from AI import MDP2\n",
    "import statistics\n",
    "\n",
    "def evaluate(parameters):  # figuirng out a real evaluation funciton is all I need\n",
    "\n",
    "\n",
    "    param_array = np.array([\n",
    "        parameters[\"m1-3\"],\n",
    "        parameters[\"m4-6\"],\n",
    "        parameters[\"m7-9\"],\n",
    "        parameters[\"m10-15\"],\n",
    "        parameters[\"depth_scale\"],\n",
    "    ])\n",
    "    scores = [0]  # these 0s should be deleted of course\n",
    "    time_per_moves = [0]\n",
    "    num_runs = 0\n",
    "    for game_run in range(num_runs):\n",
    "        g = Game(use_gui=False)\n",
    "        g.setup_board()\n",
    "        m = MDP2(g, game_obj=Game, verbose=False, best_proportion=1, core_params=param_array)\n",
    "        current_score, current_time_per_move = m.run()\n",
    "        scores.append(current_score)\n",
    "        time_per_moves.append(current_time_per_move)\n",
    "    to_return = {\"score\": statistics.mean(scores),\n",
    "                 \"time_per_move\": statistics.mean(time_per_moves)}\n",
    "\n",
    "    return {\"score\": 1, \"time_per_move\": 2}  # random thing to try so it doesn't actually run and blow up my computer\n",
    "\n"
   ],
   "metadata": {
    "collapsed": false,
    "ExecuteTime": {
     "end_time": "2023-07-08T03:51:45.238142Z",
     "start_time": "2023-07-08T03:51:44.237458Z"
    }
   }
  },
  {
   "cell_type": "code",
   "execution_count": 4,
   "outputs": [
    {
     "name": "stderr",
     "output_type": "stream",
     "text": [
      "  0%|          | 0/15 [00:00<?, ?it/s][INFO 07-07 23:51:45] ax.service.ax_client: Generated new trial 0 with parameters {'m1-3': 626, 'm4-6': 100, 'm7-9': 47, 'm10-15': 19, 'depth_scale': 11.934898}.\n",
      "[INFO 07-07 23:51:45] ax.service.ax_client: Completed trial 0 with data: {'score': (1.0, None), 'time_per_move': (2.0, None)}.\n",
      "[INFO 07-07 23:51:45] ax.service.ax_client: Generated new trial 1 with parameters {'m1-3': 718, 'm4-6': 33, 'm7-9': 38, 'm10-15': 20, 'depth_scale': 13.407911}.\n",
      "[INFO 07-07 23:51:45] ax.service.ax_client: Completed trial 1 with data: {'score': (1.0, None), 'time_per_move': (2.0, None)}.\n",
      "[INFO 07-07 23:51:45] ax.service.ax_client: Generated new trial 2 with parameters {'m1-3': 586, 'm4-6': 95, 'm7-9': 34, 'm10-15': 5, 'depth_scale': 6.422668}.\n",
      "[INFO 07-07 23:51:45] ax.service.ax_client: Completed trial 2 with data: {'score': (1.0, None), 'time_per_move': (2.0, None)}.\n",
      "[INFO 07-07 23:51:45] ax.service.ax_client: Generated new trial 3 with parameters {'m1-3': 340, 'm4-6': 99, 'm7-9': 35, 'm10-15': 16, 'depth_scale': 11.008392}.\n",
      "[INFO 07-07 23:51:45] ax.service.ax_client: Completed trial 3 with data: {'score': (1.0, None), 'time_per_move': (2.0, None)}.\n",
      "[INFO 07-07 23:51:45] ax.service.ax_client: Generated new trial 4 with parameters {'m1-3': 498, 'm4-6': 67, 'm7-9': 44, 'm10-15': 10, 'depth_scale': 16.371946}.\n",
      "[INFO 07-07 23:51:45] ax.service.ax_client: Completed trial 4 with data: {'score': (1.0, None), 'time_per_move': (2.0, None)}.\n",
      "[INFO 07-07 23:51:45] ax.service.ax_client: Generated new trial 5 with parameters {'m1-3': 357, 'm4-6': 68, 'm7-9': 8, 'm10-15': 18, 'depth_scale': 16.142877}.\n",
      "[INFO 07-07 23:51:45] ax.service.ax_client: Completed trial 5 with data: {'score': (1.0, None), 'time_per_move': (2.0, None)}.\n",
      "[INFO 07-07 23:51:45] ax.service.ax_client: Generated new trial 6 with parameters {'m1-3': 689, 'm4-6': 85, 'm7-9': 30, 'm10-15': 19, 'depth_scale': 14.014837}.\n",
      "[INFO 07-07 23:51:45] ax.service.ax_client: Completed trial 6 with data: {'score': (1.0, None), 'time_per_move': (2.0, None)}.\n",
      "[INFO 07-07 23:51:45] ax.service.ax_client: Generated new trial 7 with parameters {'m1-3': 524, 'm4-6': 28, 'm7-9': 32, 'm10-15': 10, 'depth_scale': 10.861525}.\n",
      "[INFO 07-07 23:51:45] ax.service.ax_client: Completed trial 7 with data: {'score': (1.0, None), 'time_per_move': (2.0, None)}.\n",
      "[INFO 07-07 23:51:45] ax.service.ax_client: Generated new trial 8 with parameters {'m1-3': 494, 'm4-6': 25, 'm7-9': 44, 'm10-15': 9, 'depth_scale': 17.654387}.\n",
      "[INFO 07-07 23:51:45] ax.service.ax_client: Completed trial 8 with data: {'score': (1.0, None), 'time_per_move': (2.0, None)}.\n",
      " 60%|██████    | 9/15 [00:00<00:00, 82.49it/s][INFO 07-07 23:51:45] ax.service.ax_client: Generated new trial 9 with parameters {'m1-3': 734, 'm4-6': 47, 'm7-9': 22, 'm10-15': 5, 'depth_scale': 13.444242}.\n",
      "[INFO 07-07 23:51:45] ax.service.ax_client: Completed trial 9 with data: {'score': (1.0, None), 'time_per_move': (2.0, None)}.\n",
      "/Users/NoahRipstein/PycharmProjects/2048/venv/lib/python3.10/site-packages/ax/modelbridge/transforms/winsorize.py:276: UserWarning: Encountered a `MultiObjective` without objective thresholds. We will winsorize each objective separately. We strongly recommend specifying the objective thresholds when using multi-objective optimization.\n",
      "  warnings.warn(\n",
      "[INFO 07-07 23:51:45] ax.modelbridge.transforms.standardize_y: Outcome score is constant, within tolerance.\n",
      "[INFO 07-07 23:51:45] ax.modelbridge.transforms.standardize_y: Outcome time_per_move is constant, within tolerance.\n",
      "/Users/NoahRipstein/PycharmProjects/2048/venv/lib/python3.10/site-packages/botorch/models/utils/assorted.py:201: InputDataWarning: Input data is not standardized. Please consider scaling the input to zero mean and unit variance.\n",
      "  warnings.warn(msg, InputDataWarning)\n",
      "[INFO 07-07 23:51:45] ax.service.ax_client: Generated new trial 10 with parameters {'m1-3': 544, 'm4-6': 34, 'm7-9': 46, 'm10-15': 13, 'depth_scale': 7.424621}.\n",
      "[INFO 07-07 23:51:45] ax.service.ax_client: Completed trial 10 with data: {'score': (1.0, None), 'time_per_move': (2.0, None)}.\n",
      "/Users/NoahRipstein/PycharmProjects/2048/venv/lib/python3.10/site-packages/ax/modelbridge/transforms/winsorize.py:276: UserWarning: Encountered a `MultiObjective` without objective thresholds. We will winsorize each objective separately. We strongly recommend specifying the objective thresholds when using multi-objective optimization.\n",
      "  warnings.warn(\n",
      "[INFO 07-07 23:51:45] ax.modelbridge.transforms.standardize_y: Outcome score is constant, within tolerance.\n",
      "[INFO 07-07 23:51:45] ax.modelbridge.transforms.standardize_y: Outcome time_per_move is constant, within tolerance.\n",
      "/Users/NoahRipstein/PycharmProjects/2048/venv/lib/python3.10/site-packages/botorch/models/utils/assorted.py:201: InputDataWarning: Input data is not standardized. Please consider scaling the input to zero mean and unit variance.\n",
      "  warnings.warn(msg, InputDataWarning)\n",
      "[INFO 07-07 23:51:46] ax.service.ax_client: Generated new trial 11 with parameters {'m1-3': 619, 'm4-6': 25, 'm7-9': 8, 'm10-15': 20, 'depth_scale': 20.0}.\n",
      "[INFO 07-07 23:51:46] ax.service.ax_client: Completed trial 11 with data: {'score': (1.0, None), 'time_per_move': (2.0, None)}.\n",
      "/Users/NoahRipstein/PycharmProjects/2048/venv/lib/python3.10/site-packages/ax/modelbridge/transforms/winsorize.py:276: UserWarning: Encountered a `MultiObjective` without objective thresholds. We will winsorize each objective separately. We strongly recommend specifying the objective thresholds when using multi-objective optimization.\n",
      "  warnings.warn(\n",
      "[INFO 07-07 23:51:46] ax.modelbridge.transforms.standardize_y: Outcome score is constant, within tolerance.\n",
      "[INFO 07-07 23:51:46] ax.modelbridge.transforms.standardize_y: Outcome time_per_move is constant, within tolerance.\n",
      "/Users/NoahRipstein/PycharmProjects/2048/venv/lib/python3.10/site-packages/botorch/models/utils/assorted.py:201: InputDataWarning: Input data is not standardized. Please consider scaling the input to zero mean and unit variance.\n",
      "  warnings.warn(msg, InputDataWarning)\n",
      "[INFO 07-07 23:51:46] ax.service.ax_client: Generated new trial 12 with parameters {'m1-3': 250, 'm4-6': 25, 'm7-9': 50, 'm10-15': 20, 'depth_scale': 20.0}.\n",
      "[INFO 07-07 23:51:46] ax.service.ax_client: Completed trial 12 with data: {'score': (1.0, None), 'time_per_move': (2.0, None)}.\n",
      "/Users/NoahRipstein/PycharmProjects/2048/venv/lib/python3.10/site-packages/ax/modelbridge/transforms/winsorize.py:276: UserWarning: Encountered a `MultiObjective` without objective thresholds. We will winsorize each objective separately. We strongly recommend specifying the objective thresholds when using multi-objective optimization.\n",
      "  warnings.warn(\n",
      "[INFO 07-07 23:51:46] ax.modelbridge.transforms.standardize_y: Outcome score is constant, within tolerance.\n",
      "[INFO 07-07 23:51:46] ax.modelbridge.transforms.standardize_y: Outcome time_per_move is constant, within tolerance.\n",
      "/Users/NoahRipstein/PycharmProjects/2048/venv/lib/python3.10/site-packages/botorch/models/utils/assorted.py:201: InputDataWarning: Input data is not standardized. Please consider scaling the input to zero mean and unit variance.\n",
      "  warnings.warn(msg, InputDataWarning)\n",
      "[INFO 07-07 23:51:46] ax.service.ax_client: Generated new trial 13 with parameters {'m1-3': 632, 'm4-6': 63, 'm7-9': 47, 'm10-15': 15, 'depth_scale': 8.947688}.\n",
      "[INFO 07-07 23:51:46] ax.service.ax_client: Completed trial 13 with data: {'score': (1.0, None), 'time_per_move': (2.0, None)}.\n",
      "/Users/NoahRipstein/PycharmProjects/2048/venv/lib/python3.10/site-packages/ax/modelbridge/transforms/winsorize.py:276: UserWarning: Encountered a `MultiObjective` without objective thresholds. We will winsorize each objective separately. We strongly recommend specifying the objective thresholds when using multi-objective optimization.\n",
      "  warnings.warn(\n",
      "[INFO 07-07 23:51:46] ax.modelbridge.transforms.standardize_y: Outcome score is constant, within tolerance.\n",
      "[INFO 07-07 23:51:46] ax.modelbridge.transforms.standardize_y: Outcome time_per_move is constant, within tolerance.\n",
      "/Users/NoahRipstein/PycharmProjects/2048/venv/lib/python3.10/site-packages/botorch/models/utils/assorted.py:201: InputDataWarning: Input data is not standardized. Please consider scaling the input to zero mean and unit variance.\n",
      "  warnings.warn(msg, InputDataWarning)\n",
      "[INFO 07-07 23:51:46] ax.service.ax_client: Generated new trial 14 with parameters {'m1-3': 497, 'm4-6': 28, 'm7-9': 50, 'm10-15': 12, 'depth_scale': 8.457382}.\n",
      "[INFO 07-07 23:51:46] ax.service.ax_client: Completed trial 14 with data: {'score': (1.0, None), 'time_per_move': (2.0, None)}.\n",
      "100%|██████████| 15/15 [00:01<00:00,  9.44it/s]\n"
     ]
    }
   ],
   "source": [
    "from tqdm import tqdm\n",
    "for i in tqdm(range(15)):\n",
    "    parameters, trial_index = ax_client.get_next_trial()\n",
    "    # Local evaluation here can be replaced with deployment to external system.\n",
    "    ax_client.complete_trial(trial_index=trial_index, raw_data=evaluate(parameters))"
   ],
   "metadata": {
    "collapsed": false,
    "ExecuteTime": {
     "end_time": "2023-07-08T03:51:46.834384Z",
     "start_time": "2023-07-08T03:51:45.236551Z"
    }
   }
  }
 ],
 "metadata": {
  "kernelspec": {
   "display_name": "Python 3",
   "language": "python",
   "name": "python3"
  },
  "language_info": {
   "codemirror_mode": {
    "name": "ipython",
    "version": 2
   },
   "file_extension": ".py",
   "mimetype": "text/x-python",
   "name": "python",
   "nbconvert_exporter": "python",
   "pygments_lexer": "ipython2",
   "version": "2.7.6"
  }
 },
 "nbformat": 4,
 "nbformat_minor": 0
}
